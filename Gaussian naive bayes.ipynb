{
 "cells": [
  {
   "cell_type": "markdown",
   "metadata": {},
   "source": [
    "# Gaussian naive bayes\n",
    "\n",
    "\n",
    "Naive Bayes is a conditional probability model where were trying to predict a class C form k classes (C1, C2 ... C<sub>k</sub>) given n features (x1 .... xn) so it boils down to C<sub>k</sub>|(x1,x2 .... xn)\n",
    "\n",
    "The problem with this is if the number of features n is large is infeasible "
   ]
  },
  {
   "cell_type": "code",
   "execution_count": 1,
   "metadata": {},
   "outputs": [],
   "source": [
    "import numpy as np\n",
    "import pandas as pd"
   ]
  },
  {
   "cell_type": "code",
   "execution_count": 2,
   "metadata": {},
   "outputs": [
    {
     "data": {
      "text/html": [
       "<div>\n",
       "<style scoped>\n",
       "    .dataframe tbody tr th:only-of-type {\n",
       "        vertical-align: middle;\n",
       "    }\n",
       "\n",
       "    .dataframe tbody tr th {\n",
       "        vertical-align: top;\n",
       "    }\n",
       "\n",
       "    .dataframe thead th {\n",
       "        text-align: right;\n",
       "    }\n",
       "</style>\n",
       "<table border=\"1\" class=\"dataframe\">\n",
       "  <thead>\n",
       "    <tr style=\"text-align: right;\">\n",
       "      <th></th>\n",
       "      <th>Fruit</th>\n",
       "      <th>Height</th>\n",
       "      <th>Mass</th>\n",
       "      <th>Width</th>\n",
       "    </tr>\n",
       "  </thead>\n",
       "  <tbody>\n",
       "    <tr>\n",
       "      <th>0</th>\n",
       "      <td>pineapple</td>\n",
       "      <td>2.0</td>\n",
       "      <td>12</td>\n",
       "      <td>0.50</td>\n",
       "    </tr>\n",
       "    <tr>\n",
       "      <th>1</th>\n",
       "      <td>pineapple</td>\n",
       "      <td>2.2</td>\n",
       "      <td>14</td>\n",
       "      <td>0.60</td>\n",
       "    </tr>\n",
       "    <tr>\n",
       "      <th>2</th>\n",
       "      <td>pineapple</td>\n",
       "      <td>2.2</td>\n",
       "      <td>15</td>\n",
       "      <td>0.55</td>\n",
       "    </tr>\n",
       "    <tr>\n",
       "      <th>3</th>\n",
       "      <td>pineapple</td>\n",
       "      <td>2.3</td>\n",
       "      <td>11</td>\n",
       "      <td>0.70</td>\n",
       "    </tr>\n",
       "    <tr>\n",
       "      <th>4</th>\n",
       "      <td>watermelon</td>\n",
       "      <td>2.2</td>\n",
       "      <td>22</td>\n",
       "      <td>1.00</td>\n",
       "    </tr>\n",
       "    <tr>\n",
       "      <th>5</th>\n",
       "      <td>watermelon</td>\n",
       "      <td>2.3</td>\n",
       "      <td>19</td>\n",
       "      <td>1.20</td>\n",
       "    </tr>\n",
       "    <tr>\n",
       "      <th>6</th>\n",
       "      <td>watermelon</td>\n",
       "      <td>2.4</td>\n",
       "      <td>16</td>\n",
       "      <td>1.40</td>\n",
       "    </tr>\n",
       "    <tr>\n",
       "      <th>7</th>\n",
       "      <td>watermelon</td>\n",
       "      <td>2.5</td>\n",
       "      <td>15</td>\n",
       "      <td>1.30</td>\n",
       "    </tr>\n",
       "  </tbody>\n",
       "</table>\n",
       "</div>"
      ],
      "text/plain": [
       "        Fruit  Height  Mass  Width\n",
       "0   pineapple     2.0    12   0.50\n",
       "1   pineapple     2.2    14   0.60\n",
       "2   pineapple     2.2    15   0.55\n",
       "3   pineapple     2.3    11   0.70\n",
       "4  watermelon     2.2    22   1.00\n",
       "5  watermelon     2.3    19   1.20\n",
       "6  watermelon     2.4    16   1.40\n",
       "7  watermelon     2.5    15   1.30"
      ]
     },
     "execution_count": 2,
     "metadata": {},
     "output_type": "execute_result"
    }
   ],
   "source": [
    "data = pd.DataFrame()\n",
    "\n",
    "# Create our target variable\n",
    "data['Fruit'] = ['pineapple','pineapple','pineapple','pineapple','watermelon','watermelon','watermelon','watermelon']\n",
    "\n",
    "# Create our feature variables\n",
    "data['Height'] = [2,2.2,2.2,2.3,2.2,2.3,2.4,2.5]\n",
    "data['Mass'] = [12,14,15,11,22,19,16,15]\n",
    "data['Width'] = [0.5,0.6,0.55,0.7,1,1.2,1.4,1.3]\n",
    "\n",
    "# View the data\n",
    "data\n"
   ]
  },
  {
   "cell_type": "code",
   "execution_count": 3,
   "metadata": {},
   "outputs": [],
   "source": [
    "#lets predict the fruit based on a new set of unseen features \n",
    "\n",
    "test = [2.3,18,0.65]"
   ]
  },
  {
   "attachments": {
    "image.png": {
     "image/png": "[encoded data removed]"
    }
   },
   "cell_type": "markdown",
   "metadata": {},
   "source": [
    "If we look at bayes theorm it's \n",
    "\n",
    "![image.png](attachment:image.png)\n",
    "\n",
    "if we expand that its \n",
    "P(class|data) = (P(data|class) * P(class)) / P(data) \n",
    "\n",
    "\n",
    "Assumptions \n",
    "\n",
    "1) each feautre is independent of each other \n",
    "\n",
    "2) values of these features are normally distributed"
   ]
  },
  {
   "cell_type": "markdown",
   "metadata": {},
   "source": [
    "# Priors"
   ]
  },
  {
   "cell_type": "code",
   "execution_count": 11,
   "metadata": {},
   "outputs": [],
   "source": [
    "counts = data['Fruit'].value_counts()\n",
    "p_counts = counts['pineapple']\n",
    "w_counts = counts['watermelon']\n",
    "total = data['Fruit'].count()\n"
   ]
  },
  {
   "cell_type": "code",
   "execution_count": 12,
   "metadata": {},
   "outputs": [],
   "source": [
    "P_pineapple = p_counts/total\n",
    "P_watermelon = w_counts/total"
   ]
  },
  {
   "cell_type": "markdown",
   "metadata": {},
   "source": [
    "# Likelihood\n",
    "\n",
    "each term in our likelihood is assumed to be normal distribution\n"
   ]
  },
  {
   "cell_type": "code",
   "execution_count": 14,
   "metadata": {},
   "outputs": [
    {
     "data": {
      "text/html": [
       "<div>\n",
       "<style scoped>\n",
       "    .dataframe tbody tr th:only-of-type {\n",
       "        vertical-align: middle;\n",
       "    }\n",
       "\n",
       "    .dataframe tbody tr th {\n",
       "        vertical-align: top;\n",
       "    }\n",
       "\n",
       "    .dataframe thead th {\n",
       "        text-align: right;\n",
       "    }\n",
       "</style>\n",
       "<table border=\"1\" class=\"dataframe\">\n",
       "  <thead>\n",
       "    <tr style=\"text-align: right;\">\n",
       "      <th></th>\n",
       "      <th>Height</th>\n",
       "      <th>Mass</th>\n",
       "      <th>Width</th>\n",
       "    </tr>\n",
       "    <tr>\n",
       "      <th>Fruit</th>\n",
       "      <th></th>\n",
       "      <th></th>\n",
       "      <th></th>\n",
       "    </tr>\n",
       "  </thead>\n",
       "  <tbody>\n",
       "    <tr>\n",
       "      <th>pineapple</th>\n",
       "      <td>2.175</td>\n",
       "      <td>13</td>\n",
       "      <td>0.5875</td>\n",
       "    </tr>\n",
       "    <tr>\n",
       "      <th>watermelon</th>\n",
       "      <td>2.350</td>\n",
       "      <td>18</td>\n",
       "      <td>1.2250</td>\n",
       "    </tr>\n",
       "  </tbody>\n",
       "</table>\n",
       "</div>"
      ],
      "text/plain": [
       "            Height  Mass   Width\n",
       "Fruit                           \n",
       "pineapple    2.175    13  0.5875\n",
       "watermelon   2.350    18  1.2250"
      ]
     },
     "execution_count": 14,
     "metadata": {},
     "output_type": "execute_result"
    }
   ],
   "source": [
    "data_means = data.groupby('Fruit').mean()\n",
    "\n",
    "# View the values\n",
    "data_means"
   ]
  },
  {
   "cell_type": "code",
   "execution_count": 15,
   "metadata": {},
   "outputs": [
    {
     "data": {
      "text/html": [
       "<div>\n",
       "<style scoped>\n",
       "    .dataframe tbody tr th:only-of-type {\n",
       "        vertical-align: middle;\n",
       "    }\n",
       "\n",
       "    .dataframe tbody tr th {\n",
       "        vertical-align: top;\n",
       "    }\n",
       "\n",
       "    .dataframe thead th {\n",
       "        text-align: right;\n",
       "    }\n",
       "</style>\n",
       "<table border=\"1\" class=\"dataframe\">\n",
       "  <thead>\n",
       "    <tr style=\"text-align: right;\">\n",
       "      <th></th>\n",
       "      <th>Height</th>\n",
       "      <th>Mass</th>\n",
       "      <th>Width</th>\n",
       "    </tr>\n",
       "    <tr>\n",
       "      <th>Fruit</th>\n",
       "      <th></th>\n",
       "      <th></th>\n",
       "      <th></th>\n",
       "    </tr>\n",
       "  </thead>\n",
       "  <tbody>\n",
       "    <tr>\n",
       "      <th>pineapple</th>\n",
       "      <td>0.015833</td>\n",
       "      <td>3.333333</td>\n",
       "      <td>0.007292</td>\n",
       "    </tr>\n",
       "    <tr>\n",
       "      <th>watermelon</th>\n",
       "      <td>0.016667</td>\n",
       "      <td>10.000000</td>\n",
       "      <td>0.029167</td>\n",
       "    </tr>\n",
       "  </tbody>\n",
       "</table>\n",
       "</div>"
      ],
      "text/plain": [
       "              Height       Mass     Width\n",
       "Fruit                                    \n",
       "pineapple   0.015833   3.333333  0.007292\n",
       "watermelon  0.016667  10.000000  0.029167"
      ]
     },
     "execution_count": 15,
     "metadata": {},
     "output_type": "execute_result"
    }
   ],
   "source": [
    "data_variance = data.groupby('Fruit').var()\n",
    "\n",
    "# View the values\n",
    "data_variance"
   ]
  },
  {
   "cell_type": "code",
   "execution_count": 26,
   "metadata": {},
   "outputs": [],
   "source": [
    "pineapple_height_mean,pineapple_mass_mean,pineapple_width_mean = data_means.iloc[0]\n",
    "watermelon_height_mean,watermelon_mass_mean,watermelon_width_mean = data_means.iloc[1]\n",
    "\n",
    "\n",
    "pineapple_height_variance,pineapple_mass_variance,pineapple_width_variance = data_variance.iloc[0]\n",
    "watermelon_height_variance,watermelon_mass_variance,watermelon_width_variance = data_variance.iloc[1]"
   ]
  },
  {
   "cell_type": "code",
   "execution_count": 27,
   "metadata": {},
   "outputs": [],
   "source": [
    "def p_x_given_y(x, mean_y, variance_y):\n",
    "\n",
    "    p = 1/(np.sqrt(2*np.pi*variance_y)) * np.exp((-(x-mean_y)**2)/(2*variance_y))\n",
    "    \n",
    "    return p\n"
   ]
  },
  {
   "cell_type": "markdown",
   "metadata": {},
   "source": [
    "# Apply Bayes Classifier To New Data Point"
   ]
  },
  {
   "cell_type": "code",
   "execution_count": 32,
   "metadata": {},
   "outputs": [],
   "source": [
    "pineapple_classification = P_pineapple * \\\n",
    "p_x_given_y(test[0], pineapple_height_mean, pineapple_height_variance) * \\\n",
    "p_x_given_y(test[1], pineapple_mass_mean, pineapple_mass_variance) * \\\n",
    "p_x_given_y(test[2], pineapple_width_mean, pineapple_width_variance)\n"
   ]
  },
  {
   "cell_type": "code",
   "execution_count": 31,
   "metadata": {},
   "outputs": [],
   "source": [
    "watermelon_classification = P_watermelon * \\\n",
    "p_x_given_y(test[0], watermelon_height_mean, watermelon_height_variance) * \\\n",
    "p_x_given_y(test[1], watermelon_mass_mean, watermelon_mass_variance) * \\\n",
    "p_x_given_y(test[2], watermelon_width_mean, watermelon_width_variance)\n"
   ]
  },
  {
   "cell_type": "code",
   "execution_count": 33,
   "metadata": {},
   "outputs": [
    {
     "name": "stdout",
     "output_type": "stream",
     "text": [
      "Pineapple\n"
     ]
    }
   ],
   "source": [
    "if pineapple_classification > watermelon_classification:\n",
    "    print(\"Pineapple\")\n",
    "else:\n",
    "    print(\"Watermelon\")"
   ]
  },
  {
   "cell_type": "code",
   "execution_count": null,
   "metadata": {},
   "outputs": [],
   "source": []
  }
 ],
 "metadata": {
  "kernelspec": {
   "display_name": "Python 3",
   "language": "python",
   "name": "python3"
  },
  "language_info": {
   "codemirror_mode": {
    "name": "ipython",
    "version": 3
   },
   "file_extension": ".py",
   "mimetype": "text/x-python",
   "name": "python",
   "nbconvert_exporter": "python",
   "pygments_lexer": "ipython3",
   "version": "3.7.3"
  }
 },
 "nbformat": 4,
 "nbformat_minor": 2
}
